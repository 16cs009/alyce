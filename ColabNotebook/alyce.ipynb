{
  "nbformat": 4,
  "nbformat_minor": 0,
  "metadata": {
    "colab": {
      "name": "alyce.ipynb",
      "provenance": [],
      "private_outputs": true,
      "collapsed_sections": []
    },
    "kernelspec": {
      "name": "python3",
      "display_name": "Python 3"
    }
  },
  "cells": [
    {
      "cell_type": "markdown",
      "metadata": {
        "id": "R7yjbY-O01uz",
        "colab_type": "text"
      },
      "source": [
        "# Alyce : An A.I fine tuned Screenplay writer"
      ]
    },
    {
      "cell_type": "markdown",
      "metadata": {
        "id": "Inf4YF_Y05V-",
        "colab_type": "text"
      },
      "source": [
        "### Project Setting Up Section"
      ]
    },
    {
      "cell_type": "markdown",
      "metadata": {
        "id": "MyGHhVST08xx",
        "colab_type": "text"
      },
      "source": [
        "If you are experiencing any problem while running the below code then Goto the '**Runtime**' menu and select '**Factory Reset Runtime**' to reset the notebook."
      ]
    },
    {
      "cell_type": "code",
      "metadata": {
        "id": "seQhm7auUqZY",
        "colab_type": "code",
        "colab": {}
      },
      "source": [
        "!git clone https://github.com/16cs009/alyce.git\n",
        "import os\n",
        "os.chdir(\"/content/alyce\")\n",
        "!pip install -r requirements.txt\n",
        "!python -m spacy download en\n",
        "import neuralcoref\n",
        "import nltk\n",
        "!python -m nltk.downloader all\n",
        "\n",
        "from transformers.modeling_gpt2 import GPT2LMHeadModel\n",
        "_ = GPT2LMHeadModel.from_pretrained(\"gpt2-medium\")"
      ],
      "execution_count": 0,
      "outputs": []
    },
    {
      "cell_type": "markdown",
      "metadata": {
        "id": "s3UDIx3W1Cjx",
        "colab_type": "text"
      },
      "source": [
        "### Running Alyce Server"
      ]
    },
    {
      "cell_type": "markdown",
      "metadata": {
        "id": "_B2Z4mk9XsaE",
        "colab_type": "text"
      },
      "source": [
        "##### Alyce Package Phase I"
      ]
    },
    {
      "cell_type": "code",
      "metadata": {
        "id": "ot5ZyGwqUOej",
        "colab_type": "code",
        "colab": {}
      },
      "source": [
        "import spacy\n",
        "import neuralcoref\n",
        "import sys\n",
        "import re\n",
        "import nltk\n",
        "from nltk.tokenize import word_tokenize\n",
        "from nltk.tag import pos_tag\n",
        "from nltk.corpus import stopwords\n",
        "from Datasets import datasets\n",
        "\n",
        "nlp = spacy.load('en')\n",
        "coref = neuralcoref.NeuralCoref(nlp.vocab)\n",
        "nlp.add_pipe(coref, name='neuralcoref')\n",
        "\n",
        "def phaseI_processStory(story):\n",
        "\tdialogues = re.findall(r'\\\"(.+?)\\\"',story)\n",
        "\tdialogue_count = 0\n",
        "\tfor dialogue in dialogues:\n",
        "\t\tqt_mark = \"\\\"\" if(story.find(\"\\\"\"+dialogue+\"\\\"\")!=-1) else '\\''\n",
        "\t\tstory = story.replace(qt_mark+dialogue+qt_mark,\"<-DIALOGUE-#\"+str(dialogue_count)+\"#->\")\n",
        "\t\tdialogue_count = dialogue_count + 1\n",
        "\n",
        "\tstorylist = []\n",
        "\tfor paragraph in story.split(\"\\n\"):\n",
        "\t\tfor sentence in paragraph.split(\".\"):\n",
        "\t\t\tif(len(sentence.strip())!=0):\n",
        "\t\t\t\ttmp_slist = list()\n",
        "\t\t\t\ttmp_slist.append(sentence)\n",
        "\t\t\t\tif(sentence.find(\"<-DIALOGUE-#\")!=-1):\n",
        "\t\t\t\t\ttmp_slist.append(\"DIALOGUE\")\n",
        "\t\t\t\telse:\n",
        "\t\t\t\t\ttmp_slist.append(\"NARRATION\")\n",
        "\t\t\t\ttmp_slist.append(\"NO\")\n",
        "\t\t\t\ttmp_slist.append(\" \")\n",
        "\t\t\t\ttmp_slist.append(\" \")\n",
        "\t\t\t\ttmp_slist.append(\" \")\n",
        "\t\t\t\tstorylist.append(tmp_slist)\n",
        "\t\tstorylist.append([\"\\\\n\",\"NEWLINE\",\" \",\" \",\" \"])\n",
        "\n",
        "\tfor i in range(len(storylist)):\n",
        "\t\tif(storylist[i][1]==\"DIALOGUE\" and i>0):\n",
        "\t\t\twords = storylist[i][0].upper().split(\" \")\n",
        "\t\t\tif(\"HE\" in words or \"SHE\" in words or \"HIM\" in words or \"HER\" in words):\n",
        "\t\t\t\tj=i-1\n",
        "\t\t\t\twhile(j>0):\n",
        "\t\t\t\t\tif(storylist[j][1]!=\"NEWLINE\"):\n",
        "\t\t\t\t\t\tbreak\n",
        "\t\t\t\t\tj=j-1\n",
        "\t\t\t\tcoreference_resolver_result = nlp(\".\".join([storylist[j][0],storylist[i][0]]))\n",
        "\t\t\t\tstorylist[i][0] = coreference_resolver_result._.coref_resolved.split(\".\")[-1]\n",
        "\t\t\t\tstorylist[i][2] = \"YES\"\n",
        "\t\t\t\tstorylist[i][3] = str(coreference_resolver_result._.coref_clusters)\n",
        "\n",
        "\tk = 0\n",
        "\ts1 = {}\n",
        "\tfor i in range(len(storylist)):\n",
        "\t\tif(storylist[i][1]==\"DIALOGUE\"):\n",
        "\t\t\tdialogue_holder = re.findall(r'<-DIALOGUE-#[0-9][0-9]*#->',storylist[i][0])[0]\n",
        "\t\t\tdialogue_containing_resolved_sentence = storylist[i][0].replace(dialogue_holder,\"\").strip()\n",
        "\t\t\tstorylist[i][5] = dialogues[k]\n",
        "\t\t\tstop_words = set(stopwords.words(\"english\"))\n",
        "\t\t\td1 = nltk.word_tokenize(dialogue_containing_resolved_sentence.lower())\n",
        "\t\t\td2 = [j for j in d1 if not j in stop_words]\n",
        "\t\t\tfor w in nltk.pos_tag(d2):\n",
        "\t\t\t\tif(w[1]==\"NN\"):\n",
        "\t\t\t\t\tif(w[0].lower() in s1.keys()):\n",
        "\t\t\t\t\t\ts1[w[0].lower()] = s1[w[0].lower()]+1\n",
        "\t\t\t\t\telse:\n",
        "\t\t\t\t\t\ts1[w[0].lower()] = 1\n",
        "\t\t\tk = k + 1\n",
        "\tcharacter_list = [k for k in s1.keys() if s1[k]>1]\n",
        "\n",
        "\tk = 0\n",
        "\tfor i in range(len(storylist)):\n",
        "\t\tif(storylist[i][1]==\"DIALOGUE\"):\n",
        "\t\t\tstorylist[i][4]=\"UNKNOWN\"\n",
        "\t\t\tsentence = \" \".join([ w if w not in datasets.wordList else \"said\" for w in storylist[i][0].split(\" \")])\n",
        "\t\t\tfor subsentence in sentence.split(\",\"):\n",
        "\t\t\t\tif(subsentence.find(\"said\")!=-1):\n",
        "\t\t\t\t\tfor word in subsentence.split(\" \"):\n",
        "\t\t\t\t\t\tif(word.strip().lower() in character_list):\n",
        "\t\t\t\t\t\t\tstorylist[i][4]=word.strip()\n",
        "\t\t\t\t\t\t\tbreak\n",
        "\t\t\t\t\tbreak\n",
        "\t\t\tk = k + 1\n",
        "\treturn storylist\n",
        "\n",
        "def convert_to_html(output):\n",
        "  responseString = \"\"\n",
        "  for d in output:\n",
        "    if(d[1]==\"NARRATION\"):\n",
        "      responseString = responseString + d[0]\n",
        "    elif(d[1]==\"NEWLINE\"):\n",
        "      responseString = responseString + \"<br/>\"\n",
        "    else:\n",
        "      responseString = responseString + \"<br/><font color='red'><b>\"+d[4]+\"</b> : \"+d[5]+\"</font>\"\n",
        "      ad = \"\"\n",
        "      for t in d[0].split(\",\"):\n",
        "        if(t.lower().find(\"said\")==-1 and t.find(\"<-DIALOGUE-\")==-1):\n",
        "          ad = ad + t\n",
        "      if(len(ad)>0):\n",
        "        responseString = responseString + \"<font color='green'>((\"+ad+\"))</font>\"\n",
        "      responseString = responseString+\"</br>\"\n",
        "  return responseString"
      ],
      "execution_count": 0,
      "outputs": []
    },
    {
      "cell_type": "code",
      "metadata": {
        "id": "PKvhUnRvOv4W",
        "colab_type": "code",
        "colab": {}
      },
      "source": [
        "import os\n",
        "#from alyce import Alyce\n",
        "from flask_ngrok import run_with_ngrok\n",
        "from flask import Flask, request, render_template\n",
        "\n",
        "app = Flask(__name__, static_url_path='', static_folder=(os.getcwd()+'/public'))\n",
        "run_with_ngrok(app)\n",
        "\n",
        "@app.route('/', methods=['GET', 'POST'])\n",
        "def index():\n",
        "\tif(request.method == \"POST\"):\n",
        "\t\tstory = request.form.get(\"story\")\n",
        "\t\tif(story == None):\n",
        "\t\t\treturn \"Please Enter a Story\"\n",
        "\t\telse:\n",
        "\t\t\tdata = phaseI_processStory(story)\n",
        "\t\t\tresponse = convert_to_html(data)\n",
        "\t\t\treturn response\n",
        "\telse:\n",
        "\t\treturn render_template('index.html')\n",
        "\n",
        "if __name__ == '__main__':\n",
        "\tapp.run()"
      ],
      "execution_count": 0,
      "outputs": []
    },
    {
      "cell_type": "markdown",
      "metadata": {
        "id": "RpJkg3Z9zfrb",
        "colab_type": "text"
      },
      "source": [
        "### PPLM"
      ]
    },
    {
      "cell_type": "markdown",
      "metadata": {
        "id": "ou_SqARg0KXD",
        "colab_type": "text"
      },
      "source": [
        "The below given is an example to demonstarte the PPLM in action."
      ]
    },
    {
      "cell_type": "code",
      "metadata": {
        "id": "eh2gh5MCzh_u",
        "colab_type": "code",
        "colab": {}
      },
      "source": [
        "from PPLM.run_pplm import run_pplm_example\n",
        "run_pplm_example(\n",
        "    cond_text=\"The potato\",\n",
        "    num_samples=3,\n",
        "    bag_of_words='military',\n",
        "    length=50,\n",
        "    stepsize=0.03,\n",
        "    sample=True,\n",
        "    num_iterations=3,\n",
        "    window_length=5,\n",
        "    gamma=1.5,\n",
        "    gm_scale=0.95,\n",
        "    kl_scale=0.01,\n",
        "    verbosity='regular'\n",
        ")"
      ],
      "execution_count": 0,
      "outputs": []
    }
  ]
}