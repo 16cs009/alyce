{
  "nbformat": 4,
  "nbformat_minor": 0,
  "metadata": {
    "colab": {
      "name": "alyce.ipynb",
      "provenance": [],
      "private_outputs": true,
      "collapsed_sections": []
    },
    "kernelspec": {
      "name": "python3",
      "display_name": "Python 3"
    }
  },
  "cells": [
    {
      "cell_type": "markdown",
      "metadata": {
        "id": "R7yjbY-O01uz",
        "colab_type": "text"
      },
      "source": [
        "# Alyce : An A.I fine tuned Screenplay writer"
      ]
    },
    {
      "cell_type": "markdown",
      "metadata": {
        "id": "Inf4YF_Y05V-",
        "colab_type": "text"
      },
      "source": [
        "### Project Setting Up Section"
      ]
    },
    {
      "cell_type": "markdown",
      "metadata": {
        "id": "MyGHhVST08xx",
        "colab_type": "text"
      },
      "source": [
        "If you are experiencing any problem while running the below code then Goto the '**Runtime**' menu and select '**Factory Reset Runtime**' to reset the notebook."
      ]
    },
    {
      "cell_type": "code",
      "metadata": {
        "id": "seQhm7auUqZY",
        "colab_type": "code",
        "colab": {}
      },
      "source": [
        "!git clone https://github.com/16cs009/alyce.git\n",
        "import os\n",
        "os.chdir(\"/content/alyce\")\n",
        "!pip install -r requirements.txt\n",
        "!python -m spacy download en\n",
        "import neuralcoref"
      ],
      "execution_count": 0,
      "outputs": []
    },
    {
      "cell_type": "code",
      "metadata": {
        "id": "u63DAcWlGCoZ",
        "colab_type": "code",
        "colab": {}
      },
      "source": [
        ""
      ],
      "execution_count": 0,
      "outputs": []
    },
    {
      "cell_type": "markdown",
      "metadata": {
        "id": "s3UDIx3W1Cjx",
        "colab_type": "text"
      },
      "source": [
        "### Running Alyce Server"
      ]
    },
    {
      "cell_type": "markdown",
      "metadata": {
        "id": "_B2Z4mk9XsaE",
        "colab_type": "text"
      },
      "source": [
        "##### Alyce Package Phase I"
      ]
    },
    {
      "cell_type": "code",
      "metadata": {
        "id": "3OhV9i5yPjMS",
        "colab_type": "code",
        "colab": {}
      },
      "source": [
        "import spacy\n",
        "import neuralcoref\n",
        "import sys\n",
        "import re\n",
        "\n",
        "nlp = spacy.load('en')\n",
        "coref = neuralcoref.NeuralCoref(nlp.vocab)\n",
        "nlp.add_pipe(coref, name='neuralcoref')\n",
        "\n",
        "def find_and_replace_dialogues(input_string):\n",
        "\tdialogues = re.findall(r'\\\"(.+?)\\\"', input_string)\n",
        "\tdialogue_count = 0\n",
        "\tfor dialogue in dialogues:\n",
        "\t\tinput_string = input_string.replace(dialogue,\"<-DIALOGUE-\"+str(dialogue_count)+\"->\")\n",
        "\t\tdialogue_count = dialogue_count + 1\n",
        "\treturn input_string, dialogues\n",
        "\n",
        "def processStoryBackup(sentences):\n",
        "\tsentences, dialogues = find_and_replace_dialogues(\"<JOIN>\".join(sentences))\n",
        "\tsentences = sentences.split(\"<JOIN>\")\n",
        "\n",
        "\tdialogue_count = len(dialogues)\n",
        "\tdialogue_index = 0\n",
        "\n",
        "\tnew_sentences = []\n",
        "\tadd = []\n",
        "\n",
        "\tfor sentence in sentences:\n",
        "\t\tdoc = nlp(sentence)\n",
        "\t\tresolved_string = doc._.coref_resolved\n",
        "\t\tadd.append(resolved_string)\n",
        "\t\tdialogue_spaces = re.findall(r'<-DIALOGUE-[0-9][0-9]*->',resolved_string)\n",
        "\t\tfor dialogue_space in dialogue_spaces:\n",
        "\t\t\tif(dialogue_index < dialogue_count):\n",
        "\t\t\t\tresolved_string = resolved_string.replace(dialogue_space,\"<b><span style='color: blue;'>\\'\"+dialogues[dialogue_index]+\"\\'</span></b>\")\n",
        "\t\t\t\tdialogue_index = dialogue_index + 1\n",
        "\t\tnew_sentences.append(resolved_string+\"\\n\")\n",
        "\tresponse_string = (\"\".join(new_sentences)).replace(\"\\n\",\"<br/>\").replace(\"\\\"\",\"\")\n",
        "\t#response_string = \"<br/>### \".join(add)\n",
        "\treturn response_string\n",
        "\n",
        "def processStory(paragraphs):\n",
        "\tparagraphs, dialogues = find_and_replace_dialogues(\"<JOIN>\".join(paragraphs))\n",
        "\tparagraphs = paragraphs.split(\"<JOIN>\")\n",
        "\tstory_list = []\n",
        "\n",
        "\tfor sentences in paragraphs:\n",
        "\t\tsentences = sentences.split(\".\")\n",
        "\t\tif not (len(sentences)==1 and sentences[0]==''):\n",
        "\t\t\tstory_list.append(sentences.copy())\n",
        "\n",
        "\tdialogue_count = len(dialogues)\n",
        "\tdialogue_index = 0\n",
        "\tresponse_string = \"\"\n",
        "\n",
        "\tfor j in range(len(story_list)):\n",
        "\t\tparagraph = story_list[j]\n",
        "\t\tfor i in range(len(paragraph)):\n",
        "\t\t\tif(paragraph[i].find(\"<-DIALOGUE-\")!=-1):\n",
        "\t\t\t\twords = paragraph[i].upper().split(\" \")\n",
        "\t\t\t\tif(\"HE\" in words or \"SHE\" in words):\n",
        "\t\t\t\t\tif( i > 0 ):\n",
        "\t\t\t\t\t\tdoc = nlp(\".\".join([paragraph[i-1],paragraph[i]]))\n",
        "\t\t\t\t\t\tresponse_string = response_string + \"<br/><br/>\" + doc._.coref_resolved\n",
        "\t\t\t\t\t\tsentences = doc._.coref_resolved.split(\".\")\n",
        "\t\t\t\t\t\tparagraph[i] = sentences[-1]\n",
        "\t\t\t\t\telif( j > 0 ):\n",
        "\t\t\t\t\t\tdoc = nlp(\".\".join(story_list[j-1])+\".\"+paragraph[i])\n",
        "\t\t\t\t\t\tresponse_string = response_string + \"<br/><br/>\" + doc._.coref_resolved\n",
        "\t\t\t\t\t\tsentences = doc._.coref_resolved.split(\".\")\n",
        "\t\t\t\t\t\tparagraph[i] = sentences[-1]\n",
        "\t\n",
        "\tfor i in range(len(story_list)):\n",
        "\t\tstory_list[i] = \".\".join(story_list[i])\n",
        "\t\tdialogue_spaces = re.findall(r'<-DIALOGUE-[0-9][0-9]*->',story_list[i])\n",
        "\t\tfor dialogue_space in dialogue_spaces:\n",
        "\t\t\tif(dialogue_index < dialogue_count):\n",
        "\t\t\t\tstory_list[i] = story_list[i].replace(dialogue_space,\"<b><span style='color: blue;'>\"+dialogues[dialogue_index]+\"</span></b>\")\n",
        "\t\t\t\tdialogue_index = dialogue_index + 1\n",
        "\n",
        "\tresponse_string = \"<br/><br/>\".join(story_list)\n",
        "\n",
        "\treturn response_string"
      ],
      "execution_count": 0,
      "outputs": []
    },
    {
      "cell_type": "code",
      "metadata": {
        "id": "PKvhUnRvOv4W",
        "colab_type": "code",
        "colab": {}
      },
      "source": [
        "import os\n",
        "#from alyce import Alyce\n",
        "from flask_ngrok import run_with_ngrok\n",
        "from flask import Flask, request, render_template\n",
        "\n",
        "app = Flask(__name__, static_url_path='', static_folder=(os.getcwd()+'/public'))\n",
        "run_with_ngrok(app)\n",
        "\n",
        "@app.route('/', methods=['GET', 'POST'])\n",
        "def index():\n",
        "\tif(request.method == \"POST\"):\n",
        "\t\tstory = request.form.get(\"story\")\n",
        "\t\tif(story == None):\n",
        "\t\t\treturn \"Please Enter a Story\"\n",
        "\t\telse:\n",
        "\t\t\treturn processStory(story.split(\"\\n\"))\n",
        "\telse:\n",
        "\t\treturn render_template('index.html')\n",
        "\n",
        "if __name__ == '__main__':\n",
        "\tapp.run()"
      ],
      "execution_count": 0,
      "outputs": []
    }
  ]
}